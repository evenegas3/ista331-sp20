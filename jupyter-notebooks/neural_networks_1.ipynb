{
 "cells": [
  {
   "cell_type": "markdown",
   "metadata": {},
   "source": [
    "# A Short Intro to Neural Networks"
   ]
  },
  {
   "cell_type": "markdown",
   "metadata": {},
   "source": [
    "For the idea behind neural networks, see the chalkboard video. It's not so easy to draw a network in a Jupyter notebook, so we'll focus on the code here."
   ]
  },
  {
   "cell_type": "code",
   "execution_count": 1,
   "metadata": {},
   "outputs": [
    {
     "name": "stderr",
     "output_type": "stream",
     "text": [
      "Using TensorFlow backend.\n"
     ]
    }
   ],
   "source": [
    "import numpy as np\n",
    "import pandas as pd\n",
    "import keras\n",
    "import matplotlib.pyplot as plt\n",
    "from keras.datasets import reuters\n",
    "from keras.layers import Dense, Activation\n",
    "from keras.models import Sequential\n",
    "from keras.preprocessing.text import Tokenizer # We'll use Keras's own tokenizer for our NLP preprocessing here"
   ]
  },
  {
   "cell_type": "markdown",
   "metadata": {},
   "source": [
    "Our example data set today is from the Reuters news agency. This is a subset of a larger data set that is a standard benchmark in document classification. The text of the articles has already been preprocessed, and is represented as a sequence of integer indices, with each index representing a word in the data set's vocabulary.\n",
    "\n",
    "The target is a categorical variable with 46 levels representing the topics of articles."
   ]
  },
  {
   "cell_type": "code",
   "execution_count": 2,
   "metadata": {},
   "outputs": [],
   "source": [
    "(x_train, y_train), (x_test, y_test) = reuters.load_data(path=\"reuters.npz\",\n",
    "                                                         num_words=None,\n",
    "                                                         skip_top=0,\n",
    "                                                         maxlen=None,\n",
    "                                                         test_split=0.2,\n",
    "                                                         seed=759,\n",
    "                                                         start_char=1,\n",
    "                                                         oov_char=2,\n",
    "                                                         index_from=3)\n",
    "word_index = reuters.get_word_index(path=\"reuters_word_index.json\")\n",
    "topic_index = {'copper': 6, 'livestock': 28, 'gold': 25, 'money-fx': 19, 'ipi': 30, 'trade': 11, 'cocoa': 0, 'iron-steel': 31, 'reserves': 12, 'tin': 26, 'zinc': 37, 'jobs': 34, 'ship': 13, 'cotton': 14, 'alum': 23, 'strategic-metal': 27, 'lead': 45, 'housing': 7, 'meal-feed': 22, 'gnp': 21, 'sugar': 10, 'rubber': 32, 'dlr': 40, 'veg-oil': 2, 'interest': 20, 'crude': 16, 'coffee': 9, 'wheat': 5, 'carcass': 15, 'lei': 35, 'gas': 41, 'nat-gas': 17, 'oilseed': 24, 'orange': 38, 'heat': 33, 'wpi': 43, 'silver': 42, 'cpi': 18, 'earn': 3, 'bop': 36, 'money-supply': 8, 'hog': 44, 'acq': 4, 'pet-chem': 39, 'grain': 1, 'retail': 29}\n",
    "index_to_topic = {}\n",
    "for key, value in topic_index.items():\n",
    "    index_to_topic[value] = key\n",
    "index_to_word = {}\n",
    "for key, value in word_index.items():\n",
    "    index_to_word[value] = key"
   ]
  },
  {
   "cell_type": "code",
   "execution_count": 5,
   "metadata": {},
   "outputs": [
    {
     "name": "stdout",
     "output_type": "stream",
     "text": [
      "[1, 53, 119, 26, 14, 119, 26, 39, 19, 7139, 18, 14, 19, 4701, 18, 1730, 296, 61, 11, 14, 258, 59, 11, 151, 177, 53, 981, 26, 14, 745, 26, 39, 44, 4722, 18, 14, 47, 2013, 18, 1730, 482, 72, 11, 14, 533, 72, 11, 123, 383, 48, 90, 67, 563, 1974, 12825, 642, 5, 79, 582, 13, 93, 48, 1051, 4430, 2630, 326, 382, 685, 23, 21606, 1568, 149, 17, 12]\n",
      "3\n"
     ]
    }
   ],
   "source": [
    "idx = np.random.choice(len(x_train))\n",
    "print(x_train[idx])\n",
    "print(y_train[idx])"
   ]
  },
  {
   "cell_type": "markdown",
   "metadata": {},
   "source": [
    "Let's explore what this data looks like a bit first."
   ]
  },
  {
   "cell_type": "code",
   "execution_count": 6,
   "metadata": {},
   "outputs": [
    {
     "name": "stdout",
     "output_type": "stream",
     "text": [
      "the lt production year reuter production year an from shippers on reuter from declaration on lowered did had vs reuter shareholders were vs rise avg lt ahead year reuter august year an 4 mediterranean on reuter which severe on lowered account also vs reuter number also vs some budget but april 0 65 minority breweries senior said tonnes past it price but drilling franklin clients recent sold 43 cts warplnes big added pct dlrs\n",
      "earn\n"
     ]
    }
   ],
   "source": [
    "print(' '.join([index_to_word[i] for i in x_train[idx]]))\n",
    "print(index_to_topic[y_train[idx]])"
   ]
  },
  {
   "cell_type": "code",
   "execution_count": 7,
   "metadata": {},
   "outputs": [
    {
     "data": {
      "text/plain": [
       "{'acq',\n",
       " 'alum',\n",
       " 'bop',\n",
       " 'carcass',\n",
       " 'cocoa',\n",
       " 'coffee',\n",
       " 'copper',\n",
       " 'cotton',\n",
       " 'cpi',\n",
       " 'crude',\n",
       " 'dlr',\n",
       " 'earn',\n",
       " 'gas',\n",
       " 'gnp',\n",
       " 'gold',\n",
       " 'grain',\n",
       " 'heat',\n",
       " 'hog',\n",
       " 'housing',\n",
       " 'interest',\n",
       " 'ipi',\n",
       " 'iron-steel',\n",
       " 'jobs',\n",
       " 'lead',\n",
       " 'lei',\n",
       " 'livestock',\n",
       " 'meal-feed',\n",
       " 'money-fx',\n",
       " 'money-supply',\n",
       " 'nat-gas',\n",
       " 'oilseed',\n",
       " 'orange',\n",
       " 'pet-chem',\n",
       " 'reserves',\n",
       " 'retail',\n",
       " 'rubber',\n",
       " 'ship',\n",
       " 'silver',\n",
       " 'strategic-metal',\n",
       " 'sugar',\n",
       " 'tin',\n",
       " 'trade',\n",
       " 'veg-oil',\n",
       " 'wheat',\n",
       " 'wpi',\n",
       " 'zinc'}"
      ]
     },
     "execution_count": 7,
     "metadata": {},
     "output_type": "execute_result"
    }
   ],
   "source": [
    "set(topic_index)"
   ]
  },
  {
   "cell_type": "markdown",
   "metadata": {},
   "source": [
    "Do some necessary preprocessing:"
   ]
  },
  {
   "cell_type": "code",
   "execution_count": 8,
   "metadata": {},
   "outputs": [],
   "source": [
    "max_words = 1000 # Arbitrary choice\n",
    "num_classes = np.max(y_train) + 1\n",
    "\n",
    "tokenizer = Tokenizer(num_words=max_words)\n",
    "x_train = tokenizer.sequences_to_matrix(x_train, mode='binary')\n",
    "x_test = tokenizer.sequences_to_matrix(x_test, mode='binary')\n",
    "\n",
    "y_train = keras.utils.to_categorical(y_train, num_classes) # Remember this for the assignment;\n",
    "y_test = keras.utils.to_categorical(y_test, num_classes)"
   ]
  },
  {
   "cell_type": "code",
   "execution_count": 9,
   "metadata": {},
   "outputs": [
    {
     "data": {
      "text/plain": [
       "array([0., 0., 0., 1., 0., 0., 0., 0., 0., 0., 0., 0., 0., 0., 0., 0., 0.,\n",
       "       0., 0., 0., 0., 0., 0., 0., 0., 0., 0., 0., 0., 0., 0., 0., 0., 0.,\n",
       "       0., 0., 0., 0., 0., 0., 0., 0., 0., 0., 0., 0.], dtype=float32)"
      ]
     },
     "execution_count": 9,
     "metadata": {},
     "output_type": "execute_result"
    }
   ],
   "source": [
    "y_train[idx]"
   ]
  },
  {
   "cell_type": "markdown",
   "metadata": {},
   "source": [
    "<font color = 'green'> __Artificial neural network:__ <font color = 'black'> A model built out of a \"network\" of simple models called \"neurons\". Each neuron takes as its input a vector $\\mathbf x$, dots it with a \"weight vector\" $\\mathbf w$ which is specific to that neuron, optionally adds a bias $b$, and then evaluates a mathematical function to produce a single number as output."
   ]
  },
  {
   "cell_type": "markdown",
   "metadata": {},
   "source": [
    "<font color = 'green'> __Layer:__ <font color = 'black'> A neural network is made out of a sequence of layers. Each layer is made of several neurons which take input vectors from the previous layer and pass output to the next layer. (Note the output of a neuron is a single number, so the input vector is formed out of the output of multiple neurons from the previous layer.) In general, all neurons in the same layer are the same type but will have different weights."
   ]
  },
  {
   "cell_type": "markdown",
   "metadata": {},
   "source": [
    "<font color = 'green'> __Hidden layer:__ <font color = 'black'> A network always has an input layer, which \"reads\" the data. Often the input layer is just one neuron for each predictor, which simply passes that predictor unmodified onto the next layer. A network also always has an output layer, which produces the output prediction. For classification problems, this usually has one neuron per class, which produces the estimated class probability.\n",
    "    \n",
    "Layers in between the input and output are called *hidden layers.* A network with many hidden layers is called a *deep* neural network."
   ]
  },
  {
   "cell_type": "markdown",
   "metadata": {},
   "source": [
    "<font color = 'green'> __Dense feed-forward network:__ <font color = 'black'> One of the simplest forms of neural network. \"Feed forward\" means that data travels through the network from input to output without any backtracking, loops, or other complex paths. \"Dense\" means that every neuron in layer $i$ feeds into every neuron in layer $i + 1$. That is, the network contains every possible connection."
   ]
  },
  {
   "cell_type": "markdown",
   "metadata": {},
   "source": [
    "The type of feed-forward network we are constructing here is also called a *multilayer perceptron* (MLP)."
   ]
  },
  {
   "cell_type": "markdown",
   "metadata": {},
   "source": [
    "<font color = 'green'> __Activation function:__ <font color = 'black'> As mentioned before, each neuron produces its output by calculating a linear function of the input, $\\mathbf w \\cdot \\mathbf x + b$, and then evaluating a mathematical function on the result. That function is called the *activation function*. Several common choices of activation function:"
   ]
  },
  {
   "cell_type": "markdown",
   "metadata": {},
   "source": [
    "**Sigmoid** (aka logistic):\n",
    "\n",
    "$$ f(x) = \\frac{1}{1 + e^{-x}} $$"
   ]
  },
  {
   "cell_type": "code",
   "execution_count": 10,
   "metadata": {},
   "outputs": [
    {
     "data": {
      "image/png": "[encoded data removed]",
      "text/plain": [
       "<Figure size 432x288 with 1 Axes>"
      ]
     },
     "metadata": {
      "needs_background": "light"
     },
     "output_type": "display_data"
    }
   ],
   "source": [
    "x = np.linspace(-5, 5, 100)\n",
    "y = 1 / (1 + np.exp(-x))\n",
    "plt.plot(x, y)\n",
    "plt.axhline(0, color = 'gray')\n",
    "plt.axvline(0, color = 'gray')\n",
    "plt.show()"
   ]
  },
  {
   "cell_type": "markdown",
   "metadata": {},
   "source": [
    "**Tanh** (hyperbolic tangent):\n",
    "\n",
    "$$ f(x) = \\tanh(x) = \\frac{e^x - e^{-x}}{e^x + e^{-x}} $$"
   ]
  },
  {
   "cell_type": "code",
   "execution_count": 11,
   "metadata": {},
   "outputs": [
    {
     "data": {
      "image/png": "[encoded data removed]",
      "text/plain": [
       "<Figure size 432x288 with 1 Axes>"
      ]
     },
     "metadata": {
      "needs_background": "light"
     },
     "output_type": "display_data"
    }
   ],
   "source": [
    "x = np.linspace(-5, 5, 100)\n",
    "y = np.tanh(x)\n",
    "plt.plot(x, y)\n",
    "plt.axhline(0, color = 'gray')\n",
    "plt.axvline(0, color = 'gray')\n",
    "plt.show()"
   ]
  },
  {
   "cell_type": "markdown",
   "metadata": {},
   "source": [
    "**Rectified linear unit** (ReLU)\n",
    "\n",
    "$$ f(x) = \\max(0, x) $$"
   ]
  },
  {
   "cell_type": "code",
   "execution_count": 12,
   "metadata": {},
   "outputs": [
    {
     "data": {
      "image/png": "[encoded data removed]",
      "text/plain": [
       "<Figure size 432x288 with 1 Axes>"
      ]
     },
     "metadata": {
      "needs_background": "light"
     },
     "output_type": "display_data"
    }
   ],
   "source": [
    "x = np.linspace(-5, 5, 100)\n",
    "y = np.zeros_like(x)\n",
    "y[50:] = x[50:]\n",
    "plt.axhline(0, color = 'gray')\n",
    "plt.axvline(0, color = 'gray')\n",
    "plt.plot(x, y)\n",
    "plt.show()"
   ]
  },
  {
   "cell_type": "markdown",
   "metadata": {},
   "source": [
    "<font color = 'green'> __Backpropagation:__ <font color = 'black'> The standard approach to training a neural network is to use some variant of stochastic gradient descent. This requires that we are able to calculate the gradient of the loss function with respect to the individual weights. This can be done relatively efficiently by the \"backpropagation\" algorithm.\n",
    " \n",
    "We won't go into the mathematical details, but the rough idea is that after making a prediction and measuring its error (how far off the correct target it was), the error can be traced back through the network. Multiplying together activations and their individual gradients as we go, we get the gradients with respect to the weights in each neuron. So there is a forward pass (making the prediction) and a backward pass (backpropagating the error to get the gradient)."
   ]
  },
  {
   "cell_type": "markdown",
   "metadata": {},
   "source": [
    "<font color = 'green'> __Vanishing gradient problem:__ <font color = 'black'> Another consequence of multiplying together many small numbers. If we use backpropagation on a deep network, and the activations/gradients for individual neurons are small, then by the time we get to the \"early\" layers we have multiplied together many small numbers, and the gradient is very small. This means our gradient descent will take very small steps and the early layers will not learn quickly.\n",
    "\n",
    "The vanishing gradient problem can be mitigated by:\n",
    "* Different network architectures that can preserve gradients back through the network\n",
    "* Variations on SGD that scale the gradient to counterbalance this effect\n",
    "* Using activations that are less susceptible to vanishing gradients, such as ReLU"
   ]
  },
  {
   "cell_type": "markdown",
   "metadata": {},
   "source": [
    "## Using Keras to create a neural network\n",
    "\n",
    "Setting up a model in Keras has three steps:\n",
    "\n",
    "1. Initialize the model object and add layers\n",
    "2. \"Compile\" the model to prepare it for training\n",
    "3. Train the model"
   ]
  },
  {
   "cell_type": "code",
   "execution_count": 13,
   "metadata": {},
   "outputs": [],
   "source": [
    "# Initialize the model\n",
    "model = Sequential()\n",
    "# Add layers\n",
    "# We need to specify the input size for the first layer. Later layers can infer it from the size of the \n",
    "# previous layer.\n",
    "model.add(Dense(512, input_shape = (max_words,), activation = 'sigmoid')) # Input layer with 512 neurons\n",
    "model.add(Dense(256, activation = 'sigmoid')) # Hidden layer with 256 neurons\n",
    "model.add(Dense(128, activation = 'sigmoid')) # Hidden layer with 256 neurons\n",
    "model.add(Dense(46, activation = 'softmax')) # Softmax output for multiclass classification. 46 = # classes"
   ]
  },
  {
   "cell_type": "code",
   "execution_count": 14,
   "metadata": {},
   "outputs": [],
   "source": [
    "# Compile the model.\n",
    "model.compile(loss='categorical_crossentropy',  # Loss function for multiclass classification\n",
    "              optimizer='sgd',                  # Stochastic gradient descent for optimization\n",
    "              metrics=['accuracy'])             # Use prediction accuracy to assess model during training"
   ]
  },
  {
   "cell_type": "code",
   "execution_count": 15,
   "metadata": {},
   "outputs": [
    {
     "name": "stdout",
     "output_type": "stream",
     "text": [
      "Epoch 1/1\n",
      "8982/8982 [==============================] - 1s 128us/step - loss: 2.5741 - accuracy: 0.3388\n"
     ]
    },
    {
     "data": {
      "text/plain": [
       "<keras.callbacks.callbacks.History at 0x7fb2a5278e50>"
      ]
     },
     "execution_count": 15,
     "metadata": {},
     "output_type": "execute_result"
    }
   ],
   "source": [
    "model.fit(x_train, y_train, batch_size = 32, epochs = 1)"
   ]
  },
  {
   "cell_type": "markdown",
   "metadata": {},
   "source": [
    "We've started training! But 1 epoch really isn't enough."
   ]
  },
  {
   "cell_type": "code",
   "execution_count": 16,
   "metadata": {},
   "outputs": [
    {
     "name": "stdout",
     "output_type": "stream",
     "text": [
      "Epoch 1/25\n",
      "8982/8982 [==============================] - 1s 83us/step - loss: 2.4168 - accuracy: 0.3552\n",
      "Epoch 2/25\n",
      "8982/8982 [==============================] - 1s 81us/step - loss: 2.4069 - accuracy: 0.3552\n",
      "Epoch 3/25\n",
      "8982/8982 [==============================] - 1s 91us/step - loss: 2.4035 - accuracy: 0.3552\n",
      "Epoch 4/25\n",
      "8982/8982 [==============================] - 1s 87us/step - loss: 2.4006 - accuracy: 0.3552\n",
      "Epoch 5/25\n",
      "8982/8982 [==============================] - 1s 82us/step - loss: 2.3984 - accuracy: 0.3552\n",
      "Epoch 6/25\n",
      "8982/8982 [==============================] - 1s 84us/step - loss: 2.3961 - accuracy: 0.3552\n",
      "Epoch 7/25\n",
      "8982/8982 [==============================] - 1s 88us/step - loss: 2.3941 - accuracy: 0.3552\n",
      "Epoch 8/25\n",
      "8982/8982 [==============================] - 1s 85us/step - loss: 2.3915 - accuracy: 0.3552\n",
      "Epoch 9/25\n",
      "8982/8982 [==============================] - 1s 90us/step - loss: 2.3883 - accuracy: 0.3552\n",
      "Epoch 10/25\n",
      "8982/8982 [==============================] - 1s 83us/step - loss: 2.3855 - accuracy: 0.3552\n",
      "Epoch 11/25\n",
      "8982/8982 [==============================] - 1s 84us/step - loss: 2.3807 - accuracy: 0.3552\n",
      "Epoch 12/25\n",
      "8982/8982 [==============================] - 1s 83us/step - loss: 2.3752 - accuracy: 0.3552\n",
      "Epoch 13/25\n",
      "8982/8982 [==============================] - 1s 83us/step - loss: 2.3673 - accuracy: 0.3552\n",
      "Epoch 14/25\n",
      "8982/8982 [==============================] - 1s 85us/step - loss: 2.3590 - accuracy: 0.3554\n",
      "Epoch 15/25\n",
      "8982/8982 [==============================] - 1s 91us/step - loss: 2.3451 - accuracy: 0.3572\n",
      "Epoch 16/25\n",
      "8982/8982 [==============================] - 1s 88us/step - loss: 2.3281 - accuracy: 0.3597\n",
      "Epoch 17/25\n",
      "8982/8982 [==============================] - 1s 82us/step - loss: 2.3038 - accuracy: 0.3699\n",
      "Epoch 18/25\n",
      "8982/8982 [==============================] - 1s 90us/step - loss: 2.2733 - accuracy: 0.3798\n",
      "Epoch 19/25\n",
      "8982/8982 [==============================] - 1s 88us/step - loss: 2.2333 - accuracy: 0.4080\n",
      "Epoch 20/25\n",
      "8982/8982 [==============================] - 1s 89us/step - loss: 2.1902 - accuracy: 0.4289\n",
      "Epoch 21/25\n",
      "8982/8982 [==============================] - 1s 90us/step - loss: 2.1483 - accuracy: 0.4534\n",
      "Epoch 22/25\n",
      "8982/8982 [==============================] - 1s 85us/step - loss: 2.1134 - accuracy: 0.4679\n",
      "Epoch 23/25\n",
      "8982/8982 [==============================] - 1s 90us/step - loss: 2.0870 - accuracy: 0.4821\n",
      "Epoch 24/25\n",
      "8982/8982 [==============================] - 1s 88us/step - loss: 2.0677 - accuracy: 0.4898\n",
      "Epoch 25/25\n",
      "8982/8982 [==============================] - 1s 84us/step - loss: 2.0520 - accuracy: 0.4964\n"
     ]
    },
    {
     "data": {
      "text/plain": [
       "<keras.callbacks.callbacks.History at 0x7fb2a4722fa0>"
      ]
     },
     "execution_count": 16,
     "metadata": {},
     "output_type": "execute_result"
    }
   ],
   "source": [
    "model.fit(x_train, y_train, batch_size = 32, epochs = 25)"
   ]
  },
  {
   "cell_type": "markdown",
   "metadata": {},
   "source": [
    "Notice we don't see any improvement for the first 15 or so epochs. This is a network that suffers from a mild case of the vanishing gradient problem. We can greatly improve training speed if we change from sigmoid activation to ReLU:"
   ]
  },
  {
   "cell_type": "code",
   "execution_count": 18,
   "metadata": {},
   "outputs": [],
   "source": [
    "# Initialize the model\n",
    "model = Sequential()\n",
    "# Add layers\n",
    "# We need to specify the input size for the first layer\n",
    "model.add(Dense(512, input_shape = (max_words,), activation = 'relu')) # Input layer with 512 neurons\n",
    "model.add(Dense(256, activation = 'relu')) # Hidden layer with 128 neurons\n",
    "model.add(Dense(128, activation = 'relu')) # Hidden layer with 128 neurons\n",
    "model.add(Dense(46, activation = 'softmax')) # Softmax output for multiclass classification. 46 = # classes\n",
    "\n",
    "# Compile the model\n",
    "# Compile the model.\n",
    "model.compile(loss='categorical_crossentropy',  # Loss function for multiclass classification\n",
    "              optimizer='sgd',                  # Stochastic gradient descent for optimization\n",
    "              metrics=['accuracy'])             # Use prediction accuracy to assess model during training"
   ]
  },
  {
   "cell_type": "code",
   "execution_count": 19,
   "metadata": {},
   "outputs": [
    {
     "name": "stdout",
     "output_type": "stream",
     "text": [
      "Epoch 1/25\n",
      "8982/8982 [==============================] - 1s 105us/step - loss: 2.3881 - accuracy: 0.4334\n",
      "Epoch 2/25\n",
      "8982/8982 [==============================] - 1s 83us/step - loss: 1.7161 - accuracy: 0.5766\n",
      "Epoch 3/25\n",
      "8982/8982 [==============================] - 1s 81us/step - loss: 1.5486 - accuracy: 0.6523\n",
      "Epoch 4/25\n",
      "8982/8982 [==============================] - 1s 80us/step - loss: 1.4257 - accuracy: 0.6824\n",
      "Epoch 5/25\n",
      "8982/8982 [==============================] - 1s 85us/step - loss: 1.3155 - accuracy: 0.6993\n",
      "Epoch 6/25\n",
      "8982/8982 [==============================] - 1s 86us/step - loss: 1.2229 - accuracy: 0.7172\n",
      "Epoch 7/25\n",
      "8982/8982 [==============================] - 1s 92us/step - loss: 1.1474 - accuracy: 0.7357\n",
      "Epoch 8/25\n",
      "8982/8982 [==============================] - 1s 85us/step - loss: 1.0819 - accuracy: 0.7514\n",
      "Epoch 9/25\n",
      "8982/8982 [==============================] - 1s 82us/step - loss: 1.0229 - accuracy: 0.7650\n",
      "Epoch 10/25\n",
      "8982/8982 [==============================] - 1s 86us/step - loss: 0.9693 - accuracy: 0.7744\n",
      "Epoch 11/25\n",
      "8982/8982 [==============================] - 1s 88us/step - loss: 0.9206 - accuracy: 0.7851\n",
      "Epoch 12/25\n",
      "8982/8982 [==============================] - 1s 88us/step - loss: 0.8746 - accuracy: 0.7966\n",
      "Epoch 13/25\n",
      "8982/8982 [==============================] - 1s 85us/step - loss: 0.8318 - accuracy: 0.8051\n",
      "Epoch 14/25\n",
      "8982/8982 [==============================] - 1s 90us/step - loss: 0.7931 - accuracy: 0.8110\n",
      "Epoch 15/25\n",
      "8982/8982 [==============================] - 1s 86us/step - loss: 0.7536 - accuracy: 0.8182\n",
      "Epoch 16/25\n",
      "8982/8982 [==============================] - 1s 89us/step - loss: 0.7172 - accuracy: 0.8273\n",
      "Epoch 17/25\n",
      "8982/8982 [==============================] - 1s 89us/step - loss: 0.6824 - accuracy: 0.8363\n",
      "Epoch 18/25\n",
      "8982/8982 [==============================] - 1s 87us/step - loss: 0.6510 - accuracy: 0.8412\n",
      "Epoch 19/25\n",
      "8982/8982 [==============================] - 1s 86us/step - loss: 0.6183 - accuracy: 0.8500\n",
      "Epoch 20/25\n",
      "8982/8982 [==============================] - 1s 83us/step - loss: 0.5902 - accuracy: 0.8568\n",
      "Epoch 21/25\n",
      "8982/8982 [==============================] - 1s 93us/step - loss: 0.5605 - accuracy: 0.8635\n",
      "Epoch 22/25\n",
      "8982/8982 [==============================] - 1s 90us/step - loss: 0.5355 - accuracy: 0.8664\n",
      "Epoch 23/25\n",
      "8982/8982 [==============================] - 1s 89us/step - loss: 0.5085 - accuracy: 0.8762\n",
      "Epoch 24/25\n",
      "8982/8982 [==============================] - 1s 90us/step - loss: 0.4839 - accuracy: 0.8831\n",
      "Epoch 25/25\n",
      "8982/8982 [==============================] - 1s 89us/step - loss: 0.4591 - accuracy: 0.8874\n"
     ]
    },
    {
     "data": {
      "text/plain": [
       "<keras.callbacks.callbacks.History at 0x7fb2a48e6e20>"
      ]
     },
     "execution_count": 19,
     "metadata": {},
     "output_type": "execute_result"
    }
   ],
   "source": [
    "model.fit(x_train, y_train, batch_size = 32, epochs = 25)"
   ]
  },
  {
   "cell_type": "markdown",
   "metadata": {},
   "source": [
    "If we call `fit` again, the training picks up where it left off:"
   ]
  },
  {
   "cell_type": "code",
   "execution_count": 20,
   "metadata": {},
   "outputs": [
    {
     "name": "stdout",
     "output_type": "stream",
     "text": [
      "Epoch 1/25\n",
      "8982/8982 [==============================] - 1s 84us/step - loss: 0.4377 - accuracy: 0.8913\n",
      "Epoch 2/25\n",
      "8982/8982 [==============================] - 1s 88us/step - loss: 0.4179 - accuracy: 0.8979\n",
      "Epoch 3/25\n",
      "8982/8982 [==============================] - 1s 83us/step - loss: 0.3955 - accuracy: 0.9002\n",
      "Epoch 4/25\n",
      "8982/8982 [==============================] - 1s 83us/step - loss: 0.3777 - accuracy: 0.9053\n",
      "Epoch 5/25\n",
      "8982/8982 [==============================] - 1s 85us/step - loss: 0.3593 - accuracy: 0.9092\n",
      "Epoch 6/25\n",
      "8982/8982 [==============================] - 1s 84us/step - loss: 0.3432 - accuracy: 0.9125\n",
      "Epoch 7/25\n",
      "8982/8982 [==============================] - 1s 82us/step - loss: 0.3275 - accuracy: 0.9178\n",
      "Epoch 8/25\n",
      "8982/8982 [==============================] - 1s 90us/step - loss: 0.3118 - accuracy: 0.9207\n",
      "Epoch 9/25\n",
      "8982/8982 [==============================] - 1s 83us/step - loss: 0.2993 - accuracy: 0.9216\n",
      "Epoch 10/25\n",
      "8982/8982 [==============================] - 1s 93us/step - loss: 0.2862 - accuracy: 0.9265\n",
      "Epoch 11/25\n",
      "8982/8982 [==============================] - 1s 86us/step - loss: 0.2773 - accuracy: 0.9253\n",
      "Epoch 12/25\n",
      "8982/8982 [==============================] - 1s 83us/step - loss: 0.2639 - accuracy: 0.9324\n",
      "Epoch 13/25\n",
      "8982/8982 [==============================] - 1s 84us/step - loss: 0.2539 - accuracy: 0.9334\n",
      "Epoch 14/25\n",
      "8982/8982 [==============================] - 1s 86us/step - loss: 0.2424 - accuracy: 0.9354\n",
      "Epoch 15/25\n",
      "8982/8982 [==============================] - 1s 81us/step - loss: 0.2375 - accuracy: 0.9371\n",
      "Epoch 16/25\n",
      "8982/8982 [==============================] - 1s 90us/step - loss: 0.2274 - accuracy: 0.9393\n",
      "Epoch 17/25\n",
      "8982/8982 [==============================] - 1s 82us/step - loss: 0.2213 - accuracy: 0.9388\n",
      "Epoch 18/25\n",
      "8982/8982 [==============================] - 1s 84us/step - loss: 0.2121 - accuracy: 0.9415\n",
      "Epoch 19/25\n",
      "8982/8982 [==============================] - 1s 82us/step - loss: 0.2078 - accuracy: 0.9408\n",
      "Epoch 20/25\n",
      "8982/8982 [==============================] - 1s 83us/step - loss: 0.1981 - accuracy: 0.9424\n",
      "Epoch 21/25\n",
      "8982/8982 [==============================] - 1s 89us/step - loss: 0.1934 - accuracy: 0.9456\n",
      "Epoch 22/25\n",
      "8982/8982 [==============================] - 1s 85us/step - loss: 0.1913 - accuracy: 0.9480\n",
      "Epoch 23/25\n",
      "8982/8982 [==============================] - 1s 84us/step - loss: 0.1800 - accuracy: 0.9487\n",
      "Epoch 24/25\n",
      "8982/8982 [==============================] - 1s 82us/step - loss: 0.1756 - accuracy: 0.9490\n",
      "Epoch 25/25\n",
      "8982/8982 [==============================] - 1s 84us/step - loss: 0.1764 - accuracy: 0.9473\n"
     ]
    },
    {
     "data": {
      "text/plain": [
       "<keras.callbacks.callbacks.History at 0x7fb2a6f9bbb0>"
      ]
     },
     "execution_count": 20,
     "metadata": {},
     "output_type": "execute_result"
    }
   ],
   "source": [
    "model.fit(x_train, y_train, batch_size = 32, epochs = 25)"
   ]
  },
  {
   "cell_type": "markdown",
   "metadata": {},
   "source": [
    "<font color = 'green'> __Fine-tuning:__ <font color = 'black'> Taking an existing, trained network, and training it on some data specific to the task at hand. This makes it possible to train a large, deep network once for a general purpose task (such as image classification) and then fine-tune it on a specific subtask (such as classifying types of leaves). Training a very large, very deep network is exceptionally computationally expensive, so this can allow for more efficient use of computation time. It also allows you to experiment a bit more -- you couldn't expect to train a really powerful image processing network on consumer hardware, but you can download a pretrained network and fine-tune it a bit.\n",
    "    \n",
    "In its simplest form, fine-tuning may the same as the usual training process, just starting from a pretrained network. But you can also, e.g., train only the final layer or two, leaving the starting layers alone."
   ]
  },
  {
   "cell_type": "markdown",
   "metadata": {},
   "source": [
    "Now that our network has reached about 94% accuracy on the training set, let's evaluate it on the testing set:"
   ]
  },
  {
   "cell_type": "code",
   "execution_count": 21,
   "metadata": {},
   "outputs": [
    {
     "name": "stdout",
     "output_type": "stream",
     "text": [
      "2246/2246 [==============================] - 0s 86us/step\n"
     ]
    },
    {
     "data": {
      "text/plain": [
       "[1.3364752904708537, 0.764915406703949]"
      ]
     },
     "execution_count": 21,
     "metadata": {},
     "output_type": "execute_result"
    }
   ],
   "source": [
    "model.evaluate(x_test, y_test, batch_size = 32, verbose = True)"
   ]
  },
  {
   "cell_type": "markdown",
   "metadata": {},
   "source": [
    "We could also have evaluated this manually using the `predict` method, it's just a bit annoying because of how we did the preprocessing."
   ]
  },
  {
   "cell_type": "code",
   "execution_count": 22,
   "metadata": {},
   "outputs": [
    {
     "data": {
      "text/plain": [
       "0.7649154051647373"
      ]
     },
     "execution_count": 22,
     "metadata": {},
     "output_type": "execute_result"
    }
   ],
   "source": [
    "prob_preds = model.predict(x_test) # Predicted class probabilities\n",
    "preds = np.array([np.argmax(prob_preds[i]) for i in range(x_test.shape[0])]) # Class predictions\n",
    "preds = keras.utils.to_categorical(preds)\n",
    "sum([(preds[i,:] == y_test[i,:]).all() for i in range(len(y_test))]) / len(y_test)"
   ]
  },
  {
   "cell_type": "code",
   "execution_count": null,
   "metadata": {},
   "outputs": [],
   "source": []
  }
 ],
 "metadata": {
  "kernelspec": {
   "display_name": "Python 3",
   "language": "python",
   "name": "python3"
  },
  "language_info": {
   "codemirror_mode": {
    "name": "ipython",
    "version": 3
   },
   "file_extension": ".py",
   "mimetype": "text/x-python",
   "name": "python",
   "nbconvert_exporter": "python",
   "pygments_lexer": "ipython3",
   "version": "3.8.2"
  }
 },
 "nbformat": 4,
 "nbformat_minor": 4
}
