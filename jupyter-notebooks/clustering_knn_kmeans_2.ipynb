{
 "cells": [
  {
   "cell_type": "markdown",
   "metadata": {},
   "source": [
    "# Classification and clustering using distances (Part 2)"
   ]
  },
  {
   "cell_type": "code",
   "execution_count": null,
   "metadata": {},
   "outputs": [],
   "source": [
    "import matplotlib.pyplot as plt\n",
    "from matplotlib.colors import ListedColormap\n",
    "import pandas as pd\n",
    "import numpy as np\n",
    "from sklearn.neighbors import KNeighborsClassifier\n",
    "from sklearn.metrics import confusion_matrix"
   ]
  },
  {
   "cell_type": "markdown",
   "metadata": {},
   "source": [
    "## $k$-nearest neighbors"
   ]
  },
  {
   "cell_type": "markdown",
   "metadata": {},
   "source": [
    "$k$-nearest neighbors is an algorithm for classifying based on a notion of distance."
   ]
  },
  {
   "cell_type": "markdown",
   "metadata": {},
   "source": [
    "<font color = 'green'> __Distance/metric__: "
   ]
  },
  {
   "cell_type": "markdown",
   "metadata": {},
   "source": [
    "<font color = 'green'> __Euclidean metric__: "
   ]
  },
  {
   "cell_type": "code",
   "execution_count": null,
   "metadata": {},
   "outputs": [],
   "source": [
    "pets = pd.read_csv('pets.csv', index_col=0)\n",
    "pets"
   ]
  },
  {
   "cell_type": "code",
   "execution_count": null,
   "metadata": {},
   "outputs": [],
   "source": [
    "plt.plot(pets.loc[pets['label'] == 'cat', 'weight'], pets.loc[pets['label'] == 'cat', 'height'], 'o', label = 'cat')\n",
    "plt.plot(pets.loc[pets['label'] == 'dog', 'weight'], pets.loc[pets['label'] == 'dog', 'height'], 's', label = 'dog')\n",
    "plt.plot(pets.loc[pets['label'] == 'pony', 'weight'], pets.loc[pets['label'] == 'pony', 'height'], '^', label = 'pony')\n",
    "plt.title('Pets by height, weight, class')\n",
    "plt.ylabel('Height (cm)')\n",
    "plt.xlabel('Weight (kg)')\n",
    "plt.legend()"
   ]
  },
  {
   "cell_type": "code",
   "execution_count": null,
   "metadata": {},
   "outputs": [],
   "source": [
    "new_pets = pd.DataFrame([[31, 30.2, 8.2], [32, 22.2, 5.0], [33, 25.8, 17.8]], columns = ['pet #','height', 'weight'])\n",
    "new_pets"
   ]
  },
  {
   "cell_type": "code",
   "execution_count": null,
   "metadata": {},
   "outputs": [],
   "source": [
    "# Drop ponies from the plot because clearly none of the new pets are ponies\n",
    "plt.plot(pets.loc[pets['label'] == 'cat', 'weight'], pets.loc[pets['label'] == 'cat', 'height'], 'o', label = 'cat')\n",
    "plt.plot(pets.loc[pets['label'] == 'dog', 'weight'], pets.loc[pets['label'] == 'dog', 'height'], 's', label = 'dog')\n",
    "#plt.plot(pets.loc[pets['label'] == 'pony', 'weight'], pets.loc[pets['label'] == 'pony', 'height'], '^', label = 'pony')\n",
    "plt.plot(new_pets['weight'], new_pets['height'], '*', label = 'unknown')\n",
    "plt.title('Pets by height, weight, class')\n",
    "plt.ylabel('Height (cm)')\n",
    "plt.xlabel('Weight (kg)')\n",
    "plt.legend()"
   ]
  },
  {
   "cell_type": "markdown",
   "metadata": {},
   "source": [
    "<font color = 'green'> __Nearest neighbors:__ "
   ]
  },
  {
   "cell_type": "markdown",
   "metadata": {},
   "source": [
    "<font color = 'green'> __$k$-nearest neighbors algorithm:__ "
   ]
  },
  {
   "cell_type": "code",
   "execution_count": null,
   "metadata": {},
   "outputs": [],
   "source": [
    "def get_nearest_neighbors(train, instance, features, k):\n",
    "    distances = pd.Series([\n",
    "        sum((train.loc[i, features] - instance.loc[features]) ** 2) for i in train.index],\n",
    "        index = train.index)\n",
    "    indices = sorted(train.index, key = lambda i:distances[i])[:k]\n",
    "    return train.loc[indices]"
   ]
  },
  {
   "cell_type": "code",
   "execution_count": null,
   "metadata": {},
   "outputs": [],
   "source": [
    "instance = new_pets.loc[1]\n",
    "features = ['weight', 'height']\n",
    "instance.loc[features]"
   ]
  },
  {
   "cell_type": "code",
   "execution_count": null,
   "metadata": {},
   "outputs": [],
   "source": [
    "get_nearest_neighbors(pets, new_pets.loc[1], features, 8)"
   ]
  },
  {
   "cell_type": "code",
   "execution_count": null,
   "metadata": {},
   "outputs": [],
   "source": [
    "def majority_vote(nearest_neighbors):\n",
    "    label = sorted(nearest_neighbors['label'], key = lambda x: sum(nearest_neighbors['label'] == x), reverse = True)[0]\n",
    "    return(label)"
   ]
  },
  {
   "cell_type": "code",
   "execution_count": null,
   "metadata": {},
   "outputs": [],
   "source": [
    "nn = get_nearest_neighbors(pets, new_pets.loc[2], features, 3)\n",
    "majority_vote(nn)"
   ]
  },
  {
   "cell_type": "code",
   "execution_count": null,
   "metadata": {},
   "outputs": [],
   "source": [
    "cmap_light = ListedColormap(['orange', 'cyan', 'cornflowerblue'])\n",
    "X = pets.drop('label', axis = 1)\n",
    "y = pets['label']\n",
    "classes = {'cat':0, 'dog':1, 'pony':2}\n",
    "def make_plot(k, h):\n",
    "    clf = KNeighborsClassifier(n_neighbors = k)\n",
    "    clf.fit(X, y)\n",
    "    \n",
    "    # Plot the decision boundary. For that, we will assign a color to each\n",
    "    # point in the mesh [x_min, x_max]x[y_min, y_max].\n",
    "    x_min, x_max = X.values[:, 0].min() - 1, X.values[:, 0].max() + 1\n",
    "    y_min, y_max = X.values[:, 1].min() - 1, X.values[:, 1].max() + 1\n",
    "    xx, yy = np.meshgrid(np.arange(x_min, x_max, h),\n",
    "                         np.arange(y_min, y_max, h))\n",
    "    Z = np.array([classes[z] for z in clf.predict(np.c_[xx.ravel(), yy.ravel()])])\n",
    "\n",
    "    # Put the result into a color plot\n",
    "    Z = Z.reshape(yy.shape)\n",
    "    plt.figure(figsize=(8,6))\n",
    "    plt.pcolormesh(yy, xx, Z, cmap=cmap_light)\n",
    "    plt.plot(pets.loc[pets['label'] == 'cat', 'weight'], pets.loc[pets['label'] == 'cat', 'height'], 'o', label = 'cat', color = 'black')\n",
    "    plt.plot(pets.loc[pets['label'] == 'dog', 'weight'], pets.loc[pets['label'] == 'dog', 'height'], 's', label = 'dog', color = 'black')\n",
    "    plt.plot(pets.loc[pets['label'] == 'pony', 'weight'], pets.loc[pets['label'] == 'pony', 'height'], '^', label = 'pony', color = 'black')\n",
    "    plt.legend()\n",
    "    plt.xlabel('Weight')\n",
    "    plt.ylabel('Height')\n",
    "    plt.title(str(k) + '-nearest neighbor classification boundaries')\n",
    "\n",
    "for i in range(1, 8):\n",
    "    make_plot(i, 0.5)"
   ]
  },
  {
   "cell_type": "markdown",
   "metadata": {},
   "source": [
    "## Parameter tuning: how to choose $k$"
   ]
  },
  {
   "cell_type": "markdown",
   "metadata": {},
   "source": [
    "<font color = 'green'> __Hyperparameter__: "
   ]
  },
  {
   "cell_type": "markdown",
   "metadata": {},
   "source": [
    "<font color = 'green'> __Parameter tuning__: "
   ]
  },
  {
   "cell_type": "markdown",
   "metadata": {},
   "source": [
    "<font color = 'green'> __Training and test data__: "
   ]
  },
  {
   "cell_type": "code",
   "execution_count": null,
   "metadata": {},
   "outputs": [],
   "source": [
    "# Data from a survey of Japanese forests\n",
    "# Classes: 's': Sugi\n",
    "#          'h': Hinoki\n",
    "#          'd': mixed deciduous\n",
    "#          'o': other non-forest land\n",
    "training = pd.read_csv('training.csv', usecols=range(0,10))\n",
    "y = training['class']\n",
    "X = training.drop('class', axis = 1)\n",
    "training"
   ]
  },
  {
   "cell_type": "code",
   "execution_count": null,
   "metadata": {},
   "outputs": [],
   "source": [
    "test = pd.read_csv('testing.csv', usecols = range(0, 10))\n",
    "test_y = test['class']\n",
    "test_X = test.drop('class', axis = 1)"
   ]
  },
  {
   "cell_type": "code",
   "execution_count": null,
   "metadata": {},
   "outputs": [],
   "source": [
    "clf = KNeighborsClassifier(n_neighbors=5, weights='uniform')\n",
    "clf.fit(X,y)"
   ]
  },
  {
   "cell_type": "code",
   "execution_count": null,
   "metadata": {},
   "outputs": [],
   "source": [
    "pred = clf.predict(test_X)\n",
    "confusion_matrix(test_y, pred)"
   ]
  },
  {
   "cell_type": "markdown",
   "metadata": {},
   "source": [
    "<font color = 'green'> __Cross-validation__: "
   ]
  },
  {
   "cell_type": "markdown",
   "metadata": {},
   "source": [
    "<font color = 'green'> __$k$-fold cross-validation__: "
   ]
  },
  {
   "cell_type": "code",
   "execution_count": null,
   "metadata": {},
   "outputs": [],
   "source": [
    "# 9-fold cross-validation\n",
    "folds = np.concatenate([np.repeat(i, len(y) // 9) for i in range(1, 10)])\n",
    "np.random.shuffle(folds)\n",
    "folds"
   ]
  },
  {
   "cell_type": "code",
   "execution_count": null,
   "metadata": {},
   "outputs": [],
   "source": [
    "# Try different values of k, 1 through 12\n",
    "mean_acc = []\n",
    "for k in range(1, 13):\n",
    "    acc = []\n",
    "    for i in range(1, 19):\n",
    "        clf = KNeighborsClassifier(n_neighbors=k, weights='uniform')\n",
    "        X0 = training.loc[folds != i].drop('class', axis = 1)\n",
    "        y0 = training.loc[folds != i]['class']\n",
    "        X1 = training.loc[folds == i].drop('class', axis = 1)\n",
    "        y1 = training.loc[folds == i]['class']\n",
    "        clf.fit(X0, y0)\n",
    "        acc.append(sum(clf.predict(X1) == y1) / len(y1))\n",
    "    mean_acc.append(np.average(acc))\n",
    "plt.plot(range(1, 20), mean_acc, 'o')"
   ]
  },
  {
   "cell_type": "markdown",
   "metadata": {},
   "source": [
    "<font color = green> __Leave-one-out cross-validation__: "
   ]
  },
  {
   "cell_type": "code",
   "execution_count": null,
   "metadata": {},
   "outputs": [],
   "source": [
    "# Try different values of k, 1 through 20\n",
    "mean_acc = []\n",
    "for k in range(1, 21):\n",
    "    acc = []\n",
    "    for i in training.index:\n",
    "        clf = KNeighborsClassifier(n_neighbors=k, weights='uniform')\n",
    "        X0 = training.drop(i).drop('class', axis = 1)\n",
    "        y0 = training.drop(i)['class']\n",
    "        X1 = training.loc[i].drop('class')\n",
    "        y1 = training.loc[i]['class']\n",
    "        clf.fit(X0, y0)\n",
    "        acc.append(sum(clf.predict(X1.values.reshape(1, -1)) == y1))\n",
    "    mean_acc.append(np.average(acc))\n",
    "plt.xticks(range(0, 21, 1))\n",
    "plt.plot(range(1, 21), mean_acc, 'o')"
   ]
  },
  {
   "cell_type": "markdown",
   "metadata": {},
   "source": [
    "#### Exercise\n",
    "\n",
    "The code below loads data from various diagnostic tests of breast tissue. Each sample is classified into `car` (carcinoma), `adi` (adipose), `con` (connective), or `fmg` (fibro-adenoma, mastopathy and glandular -- we aren't concerned with distinguishing these three)."
   ]
  },
  {
   "cell_type": "code",
   "execution_count": null,
   "metadata": {},
   "outputs": [],
   "source": [
    "tissue = pd.read_csv('tissue1.csv', index_col = 0)\n",
    "tissue"
   ]
  },
  {
   "cell_type": "markdown",
   "metadata": {},
   "source": [
    "Use leave-one-out cross-validation to find a good value of $k$ for classifying this data."
   ]
  },
  {
   "cell_type": "code",
   "execution_count": null,
   "metadata": {},
   "outputs": [],
   "source": []
  },
  {
   "cell_type": "markdown",
   "metadata": {},
   "source": [
    "## Clustering"
   ]
  },
  {
   "cell_type": "markdown",
   "metadata": {},
   "source": [
    "<font color = 'green'> __Supervised learning:__"
   ]
  },
  {
   "cell_type": "markdown",
   "metadata": {},
   "source": [
    "<font color = 'green'> __Unsupervised learning:__"
   ]
  },
  {
   "cell_type": "markdown",
   "metadata": {},
   "source": [
    "<font color = 'green'> __Clustering:__"
   ]
  },
  {
   "cell_type": "markdown",
   "metadata": {},
   "source": [
    "<font color = 'green'> __Greedy algorithm:__"
   ]
  }
 ],
 "metadata": {
  "kernelspec": {
   "display_name": "Python 3",
   "language": "python",
   "name": "python3"
  },
  "language_info": {
   "codemirror_mode": {
    "name": "ipython",
    "version": 3
   },
   "file_extension": ".py",
   "mimetype": "text/x-python",
   "name": "python",
   "nbconvert_exporter": "python",
   "pygments_lexer": "ipython3",
   "version": "3.8.1"
  }
 },
 "nbformat": 4,
 "nbformat_minor": 4
}
