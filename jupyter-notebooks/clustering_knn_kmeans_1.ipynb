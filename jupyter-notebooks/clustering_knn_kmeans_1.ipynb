{
 "cells": [
  {
   "cell_type": "markdown",
   "metadata": {},
   "source": [
    "# Classification and clustering using distances (Part 1)"
   ]
  },
  {
   "cell_type": "code",
   "execution_count": null,
   "metadata": {},
   "outputs": [],
   "source": [
    "import matplotlib.pyplot as plt\n",
    "from matplotlib.colors import ListedColormap\n",
    "import pandas as pd\n",
    "import numpy as np\n",
    "from sklearn.neighbors import KNeighborsClassifier\n",
    "from sklearn.metrics import confusion_matrix"
   ]
  },
  {
   "cell_type": "markdown",
   "metadata": {},
   "source": [
    "## $k$-nearest neighbors"
   ]
  },
  {
   "cell_type": "markdown",
   "metadata": {},
   "source": [
    "$k$-nearest neighbors is an algorithm for classifying based on a notion of distance."
   ]
  },
  {
   "cell_type": "markdown",
   "metadata": {},
   "source": [
    "<font color = 'green'> __Distance/metric__: "
   ]
  },
  {
   "cell_type": "markdown",
   "metadata": {},
   "source": [
    "<font color = 'green'> __Euclidean metric__: "
   ]
  },
  {
   "cell_type": "code",
   "execution_count": null,
   "metadata": {},
   "outputs": [],
   "source": [
    "pets = pd.read_csv('pets.csv', index_col=0)"
   ]
  },
  {
   "cell_type": "code",
   "execution_count": null,
   "metadata": {},
   "outputs": [],
   "source": [
    "plt.plot(pets.loc[pets['label'] == 'cat', 'weight'], pets.loc[pets['label'] == 'cat', 'height'], 'o', label = 'cat')\n",
    "plt.plot(pets.loc[pets['label'] == 'dog', 'weight'], pets.loc[pets['label'] == 'dog', 'height'], 's', label = 'dog')\n",
    "plt.plot(pets.loc[pets['label'] == 'pony', 'weight'], pets.loc[pets['label'] == 'pony', 'height'], '^', label = 'pony')\n",
    "plt.title('Pets by height, weight, class')\n",
    "plt.ylabel('Height (cm)')\n",
    "plt.xlabel('Weight (kg)')\n",
    "plt.legend()"
   ]
  },
  {
   "cell_type": "code",
   "execution_count": null,
   "metadata": {},
   "outputs": [],
   "source": [
    "new_pets = pd.DataFrame([[31, 30.2, 8.2], [32, 22.2, 5.2], [33, 25.8, 17.8]], columns = ['pet #','height', 'weight'])\n",
    "new_pets"
   ]
  },
  {
   "cell_type": "code",
   "execution_count": null,
   "metadata": {},
   "outputs": [],
   "source": [
    "# Drop ponies from the plot because clearly none of the new pets are ponies\n",
    "plt.plot(pets.loc[pets['label'] == 'cat', 'weight'], pets.loc[pets['label'] == 'cat', 'height'], 'o', label = 'cat')\n",
    "plt.plot(pets.loc[pets['label'] == 'dog', 'weight'], pets.loc[pets['label'] == 'dog', 'height'], 's', label = 'dog')\n",
    "#plt.plot(pets.loc[pets['label'] == 'pony', 'weight'], pets.loc[pets['label'] == 'pony', 'height'], '^', label = 'pony')\n",
    "plt.plot(new_pets['weight'], new_pets['height'], '*', label = 'unknown')\n",
    "plt.title('Pets by height, weight, class')\n",
    "plt.ylabel('Height (cm)')\n",
    "plt.xlabel('Weight (kg)')\n",
    "plt.legend()"
   ]
  },
  {
   "cell_type": "markdown",
   "metadata": {},
   "source": [
    "<font color = 'green'> __Nearest neighbors:__ "
   ]
  },
  {
   "cell_type": "markdown",
   "metadata": {},
   "source": [
    "<font color = 'green'> __$k$-nearest neighbors algorithm:__ "
   ]
  },
  {
   "cell_type": "code",
   "execution_count": null,
   "metadata": {},
   "outputs": [],
   "source": [
    "def get_nearest_neighbors(train, instance, features, k):\n",
    "    distances = pd.Series([\n",
    "        sum((train.loc[i, features] - instance.loc[features]) ** 2) for i in train.index\n",
    "    ], index = train.index)\n",
    "    indices = sorted(train.index, key = lambda i:distances[i])[:k]\n",
    "    return train.loc[indices]"
   ]
  },
  {
   "cell_type": "code",
   "execution_count": null,
   "metadata": {},
   "outputs": [],
   "source": [
    "instance = new_pets.loc[1]\n",
    "features = ['weight', 'height']\n",
    "instance.loc[features]"
   ]
  },
  {
   "cell_type": "code",
   "execution_count": null,
   "metadata": {},
   "outputs": [],
   "source": [
    "get_nearest_neighbors(pets, new_pets.loc[0], features, 5)"
   ]
  },
  {
   "cell_type": "code",
   "execution_count": null,
   "metadata": {},
   "outputs": [],
   "source": [
    "def majority_vote(nearest_neighbors):\n",
    "    label = sorted(nearest_neighbors['label'], key = lambda x: sum(nearest_neighbors['label'] == x), reverse = True)[0]\n",
    "    return(label)"
   ]
  },
  {
   "cell_type": "code",
   "execution_count": null,
   "metadata": {},
   "outputs": [],
   "source": [
    "nn = get_nearest_neighbors(pets, new_pets.loc[1], features, 8)\n",
    "majority_vote(nn)"
   ]
  },
  {
   "cell_type": "markdown",
   "metadata": {},
   "source": [
    "## Parameter tuning: how to choose $k$"
   ]
  },
  {
   "cell_type": "markdown",
   "metadata": {},
   "source": [
    "<font color = 'green'> __Hyperparameter__: "
   ]
  },
  {
   "cell_type": "markdown",
   "metadata": {},
   "source": [
    "<font color = 'green'> __Parameter tuning__: "
   ]
  },
  {
   "cell_type": "markdown",
   "metadata": {},
   "source": [
    "<font color = 'green'> __Training and test data__: "
   ]
  },
  {
   "cell_type": "code",
   "execution_count": null,
   "metadata": {},
   "outputs": [],
   "source": [
    "# Data from a survey of Japanese forests\n",
    "# Classes: 's': Sugi\n",
    "#          'h': Hinoki\n",
    "#          'd': mixed deciduous\n",
    "#          'o': other non-forest land\n",
    "training = pd.read_csv('training.csv', usecols=range(0,10))\n",
    "y = training['class']\n",
    "X = training.drop('class', axis = 1)\n",
    "training"
   ]
  },
  {
   "cell_type": "code",
   "execution_count": null,
   "metadata": {},
   "outputs": [],
   "source": [
    "test = pd.read_csv('testing.csv', usecols = range(0, 10))\n",
    "test_y = test['class']\n",
    "test_X = test.drop('class', axis = 1)"
   ]
  },
  {
   "cell_type": "code",
   "execution_count": null,
   "metadata": {},
   "outputs": [],
   "source": [
    "clf = KNeighborsClassifier(n_neighbors=5, weights='uniform')\n",
    "clf.fit(X,y)"
   ]
  },
  {
   "cell_type": "code",
   "execution_count": null,
   "metadata": {},
   "outputs": [],
   "source": [
    "pred = clf.predict(test_X)\n",
    "confusion_matrix(test_y, pred)"
   ]
  },
  {
   "cell_type": "code",
   "execution_count": null,
   "metadata": {},
   "outputs": [],
   "source": [
    "# Try different values of k, 1 through 12\n",
    "acc = []\n",
    "for k in range(1, 13):\n",
    "    clfr = KNeighborsClassifier(n_neighbors=k, weights='uniform')\n",
    "    clfr.fit(X, y)\n",
    "    acc.append(sum(clfr.predict(test_X) == test_y) / len(test_y))\n",
    "plt.plot(range(1, 13), acc, 'o')"
   ]
  },
  {
   "cell_type": "markdown",
   "metadata": {},
   "source": [
    "<font color = 'green'> __Cross-validation__: "
   ]
  },
  {
   "cell_type": "markdown",
   "metadata": {},
   "source": [
    "<font color = 'green'> __$k$-fold cross-validation__: "
   ]
  },
  {
   "cell_type": "code",
   "execution_count": null,
   "metadata": {},
   "outputs": [],
   "source": [
    "# 18-fold cross-validation\n",
    "folds = np.concatenate([np.repeat(i, len(y) // 18) for i in range(1, 19)])\n",
    "np.random.shuffle(folds)\n",
    "folds"
   ]
  },
  {
   "cell_type": "code",
   "execution_count": null,
   "metadata": {},
   "outputs": [],
   "source": [
    "# Try different values of k, 1 through 12\n",
    "mean_acc = []\n",
    "for k in range(1, 13):\n",
    "    acc = []\n",
    "    for i in range(1, 19):\n",
    "        clf = KNeighborsClassifier(n_neighbors=k, weights='uniform')\n",
    "        X0 = training.loc[folds != i].drop('class', axis = 1)\n",
    "        y0 = training.loc[folds != i]['class']\n",
    "        X1 = training.loc[folds == i].drop('class', axis = 1)\n",
    "        y1 = training.loc[folds == i]['class']\n",
    "        clf.fit(X0, y0)\n",
    "        acc.append(sum(clf.predict(X1) == y1) / len(y1))\n",
    "    mean_acc.append(np.average(acc))\n",
    "plt.plot(range(1, 13), mean_acc, 'o')"
   ]
  }
 ],
 "metadata": {
  "kernelspec": {
   "display_name": "Python 3",
   "language": "python",
   "name": "python3"
  },
  "language_info": {
   "codemirror_mode": {
    "name": "ipython",
    "version": 3
   },
   "file_extension": ".py",
   "mimetype": "text/x-python",
   "name": "python",
   "nbconvert_exporter": "python",
   "pygments_lexer": "ipython3",
   "version": "3.8.1"
  }
 },
 "nbformat": 4,
 "nbformat_minor": 4
}
