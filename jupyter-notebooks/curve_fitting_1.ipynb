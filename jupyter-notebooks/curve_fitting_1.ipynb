{
 "cells": [
  {
   "cell_type": "markdown",
   "metadata": {},
   "source": [
    "# Curve Fitting 1"
   ]
  },
  {
   "cell_type": "code",
   "execution_count": null,
   "metadata": {},
   "outputs": [],
   "source": [
    "import pandas as pd, numpy as np\n",
    "import matplotlib.pyplot as plt\n",
    "import statsmodels.api as sm"
   ]
  },
  {
   "cell_type": "markdown",
   "metadata": {},
   "source": [
    "### The mean as a model fitting solution\n",
    "\n"
   ]
  },
  {
   "cell_type": "code",
   "execution_count": null,
   "metadata": {},
   "outputs": [],
   "source": [
    "### Build some random data\n",
    "rain1 = np.array([0.24, 0.26, 0.28, 0.18, 0.21, 0.23, 0.20, 0.24])\n",
    "rain2 = np.array([0.02, 0.03, 0.06, 0.85, 0.01, 0.04, 0.80, 0.03])\n",
    "\n",
    "df = pd.DataFrame(columns = ['rain1', 'rain2'])\n",
    "df['rain1'] = rain1\n",
    "df['rain2'] = rain2\n",
    "\n",
    "df['mean1'] = df['rain1'].mean()\n",
    "df['mean2'] = df['rain2'].mean()"
   ]
  },
  {
   "cell_type": "markdown",
   "metadata": {},
   "source": [
    "How close is the mean to the data? Let's plot it:"
   ]
  },
  {
   "cell_type": "code",
   "execution_count": null,
   "metadata": {},
   "outputs": [],
   "source": [
    "df['rain1'].plot(marker = 'o', ylim = (0, 1))\n",
    "df['mean1'].plot(linestyle = '--')"
   ]
  },
  {
   "cell_type": "code",
   "execution_count": null,
   "metadata": {},
   "outputs": [],
   "source": [
    "df['rain2'].plot(marker = 'o')\n",
    "df['mean2'].plot(linestyle = '--')"
   ]
  },
  {
   "cell_type": "markdown",
   "metadata": {},
   "source": [
    "<font color=green> __In which case does the mean fit better?__"
   ]
  },
  {
   "cell_type": "markdown",
   "metadata": {},
   "source": [
    "<font color=green> __Standard deviation:__"
   ]
  },
  {
   "cell_type": "markdown",
   "metadata": {},
   "source": [
    "<font color=green> __Goodness of fit:__"
   ]
  },
  {
   "cell_type": "markdown",
   "metadata": {},
   "source": [
    "<font color=green> __Residual / predicted error:__"
   ]
  },
  {
   "cell_type": "markdown",
   "metadata": {},
   "source": [
    "<font color=green> __Optimization:__"
   ]
  },
  {
   "cell_type": "markdown",
   "metadata": {},
   "source": [
    "<font color=green> __How is the mean like a model fit?__"
   ]
  },
  {
   "cell_type": "code",
   "execution_count": null,
   "metadata": {},
   "outputs": [],
   "source": [
    "def rmse(yseries, yhat):\n",
    "    return np.sqrt(1/(len(yseries) - 1) * sum((yseries[i] - yhat)**2 for i in range(len(yseries))))\n",
    "### Call it like this: rmse(df['rain1'], y); plug in a few different values for y. How small can you get it?"
   ]
  },
  {
   "cell_type": "markdown",
   "metadata": {},
   "source": [
    "After you've tried a few values above, run the code below. Did any of your values get a RMSE that small?"
   ]
  },
  {
   "cell_type": "code",
   "execution_count": null,
   "metadata": {},
   "outputs": [],
   "source": [
    "print(rmse(df['rain1'], df['rain1'].mean()))"
   ]
  },
  {
   "cell_type": "markdown",
   "metadata": {},
   "source": [
    "<font color=green> __What other \"point models\" can we fit and how?__"
   ]
  },
  {
   "cell_type": "markdown",
   "metadata": {},
   "source": [
    "<font color=green> __Point estimate:__"
   ]
  },
  {
   "cell_type": "markdown",
   "metadata": {},
   "source": [
    "### Fitting a line\n",
    "\n",
    "Example data: Arctic sea ice extent."
   ]
  },
  {
   "cell_type": "code",
   "execution_count": null,
   "metadata": {},
   "outputs": [],
   "source": [
    "df = pd.read_csv('data_79_17.csv', index_col=0)\n",
    "df.head()"
   ]
  },
  {
   "cell_type": "code",
   "execution_count": null,
   "metadata": {
    "scrolled": true
   },
   "outputs": [],
   "source": [
    "# What are the values? Per-date average sea ice extent for each year from 1979 to 2017.\n",
    "# To get annual averages, we calculate a mean along the rows:\n",
    "df['mean'] = df.mean(axis=1)\n",
    "df.head(5).iloc[:, -3:]"
   ]
  },
  {
   "cell_type": "code",
   "execution_count": null,
   "metadata": {},
   "outputs": [],
   "source": [
    "# Plot the annual average over time\n",
    "df['mean'].plot(marker='o', label='Extent', rot=30)\n",
    "ax = plt.gca()\n",
    "ax.set_ylabel(r\"NH Sea Ice Extent ($10^6$ km$^2$)\", fontsize=24)\n",
    "plt.yticks(fontsize=18)\n",
    "plt.xticks(fontsize=18)\n",
    "ax.legend()"
   ]
  },
  {
   "cell_type": "code",
   "execution_count": null,
   "metadata": {},
   "outputs": [],
   "source": [
    "# Let's calculate the overall mean: the mean of all the means\n",
    "df['overall mean'] = df['mean'].mean()\n",
    "df.head(5).iloc[:, -3:]"
   ]
  },
  {
   "cell_type": "code",
   "execution_count": null,
   "metadata": {},
   "outputs": [],
   "source": [
    "df['overall mean'].plot(linestyle='--', label='Overall Mean')\n",
    "df['mean'].plot(marker='o', label='Extent', rot=30)\n",
    "ax = plt.gca()\n",
    "ax.set_ylabel(r\"NH Sea Ice Extent ($10^6$ km$^2$)\", fontsize=24)\n",
    "plt.yticks(fontsize=18)\n",
    "plt.xticks(fontsize=18)\n",
    "ax.legend()"
   ]
  },
  {
   "cell_type": "code",
   "execution_count": null,
   "metadata": {},
   "outputs": [],
   "source": [
    "years_array = sm.add_constant(df.index.values)\n",
    "model = sm.OLS(df['mean'], years_array)\n",
    "results = model.fit()\n",
    "results.params"
   ]
  },
  {
   "cell_type": "code",
   "execution_count": null,
   "metadata": {},
   "outputs": [],
   "source": [
    "years_array[:5]"
   ]
  },
  {
   "cell_type": "code",
   "execution_count": null,
   "metadata": {},
   "outputs": [],
   "source": [
    "xs = np.arange(1979, 2018)\n",
    "ys = results.params['x1'] * xs + results.params['const']\n",
    "plt.plot(xs, ys, linewidth=4)\n",
    "df['overall mean'].plot(linestyle='--', label='Overall Mean')\n",
    "ax = df['mean'].plot(linestyle='', marker='o', label='Extent', rot=30)\n",
    "ax.set_ylabel(r\"NH Sea Ice Extent ($10^6$ km$^2$)\", fontsize=24)\n",
    "plt.yticks(fontsize=18)\n",
    "plt.xticks(fontsize=18)\n",
    "ax.legend()"
   ]
  },
  {
   "cell_type": "markdown",
   "metadata": {},
   "source": [
    "### Making a prediction\n",
    "\n",
    "Write a line of code to predict the mean sea ice extent in 2030."
   ]
  },
  {
   "cell_type": "code",
   "execution_count": null,
   "metadata": {},
   "outputs": [],
   "source": []
  },
  {
   "cell_type": "markdown",
   "metadata": {},
   "source": [
    "Write a line of code to calculate the year that the mean sea ice extent will be 0."
   ]
  },
  {
   "cell_type": "code",
   "execution_count": null,
   "metadata": {},
   "outputs": [],
   "source": [
    "\"out of ice in: \" # finish the line here"
   ]
  },
  {
   "cell_type": "markdown",
   "metadata": {},
   "source": [
    "<font color=green> __Extrapolation:__"
   ]
  },
  {
   "cell_type": "markdown",
   "metadata": {},
   "source": [
    "<font color=green> __Why extrapolation can be problematic:__"
   ]
  },
  {
   "cell_type": "markdown",
   "metadata": {},
   "source": [
    "### Comparing the two models"
   ]
  },
  {
   "cell_type": "code",
   "execution_count": null,
   "metadata": {
    "scrolled": true
   },
   "outputs": [],
   "source": [
    "df['overall mean'].plot(linestyle='--', label='Overall Mean')\n",
    "df['mean'].plot(marker='o', label='Extent', rot=30)\n",
    "overall_mean = df['overall mean'].iloc[0]\n",
    "plt.plot(xs, ys, linewidth=4)\n",
    "df['overall mean'].plot(linestyle='--', label='Overall Mean')\n",
    "ax = df['mean'].plot(linestyle='', marker='o', label='Extent', rot=30)\n",
    "sse_mean = 0\n",
    "for x in df.index:\n",
    "    plt.plot([x, x], [df.loc[x, 'mean'], overall_mean])\n",
    "    sse_mean += (df.loc[x, 'mean'] - overall_mean)**2\n",
    "ax = plt.gca()\n",
    "ax.set_ylabel(r\"NH Sea Ice Extent ($10^6$ km$^2$)\", fontsize=24)\n",
    "plt.yticks(fontsize=18)\n",
    "plt.xticks(fontsize=18)\n",
    "ax.legend()"
   ]
  },
  {
   "cell_type": "code",
   "execution_count": null,
   "metadata": {},
   "outputs": [],
   "source": [
    "plt.plot(xs, ys, linewidth=4)\n",
    "sse_line = 0\n",
    "plt.plot(xs, ys, linewidth=4)\n",
    "ax = df['mean'].plot(linestyle='', marker='o', label='Extent', rot=30)\n",
    "sse_line = 0\n",
    "for i in range(len(xs)):\n",
    "    plt.plot([xs[i], xs[i]], [df.loc[xs[i], 'mean'], ys[i]])\n",
    "    sse_line += (df.loc[xs[i], 'mean'] - ys[i])**2\n",
    "df['mean'].plot(linestyle='', marker='o', label='Extent', rot=30)\n",
    "ax.set_ylabel(r\"NH Sea Ice Extent ($10^6$ km$^2$)\", fontsize=24)\n",
    "plt.yticks(fontsize=18)\n",
    "plt.xticks(fontsize=18)\n",
    "ax.legend()"
   ]
  },
  {
   "cell_type": "code",
   "execution_count": null,
   "metadata": {},
   "outputs": [],
   "source": [
    "# Sum of squared residuals for our point estimate\n",
    "sse_mean"
   ]
  },
  {
   "cell_type": "code",
   "execution_count": null,
   "metadata": {},
   "outputs": [],
   "source": [
    "# Sum of squared residuals for our linear model\n",
    "sse_line"
   ]
  },
  {
   "cell_type": "code",
   "execution_count": null,
   "metadata": {},
   "outputs": [],
   "source": [
    "results.summary()\n"
   ]
  },
  {
   "cell_type": "markdown",
   "metadata": {},
   "source": [
    "<font color=green> __$\\hat{y}$:__"
   ]
  },
  {
   "cell_type": "code",
   "execution_count": null,
   "metadata": {},
   "outputs": [],
   "source": [
    "for attr in dir(results):\n",
    "    if 'mse' in attr.lower():\n",
    "        print(attr)"
   ]
  },
  {
   "cell_type": "code",
   "execution_count": null,
   "metadata": {},
   "outputs": [],
   "source": [
    "results.mse_resid\n"
   ]
  },
  {
   "cell_type": "markdown",
   "metadata": {},
   "source": [
    "<font color=green> __Sum of squared error, SSE:__"
   ]
  },
  {
   "cell_type": "markdown",
   "metadata": {},
   "source": [
    "<font color=green> __Mean squared error, MSE:__"
   ]
  },
  {
   "cell_type": "markdown",
   "metadata": {},
   "source": [
    "<font color=green> __Root mean squared error, RMSE:__"
   ]
  },
  {
   "cell_type": "markdown",
   "metadata": {},
   "source": [
    "<font color=green> __Simple linear regression:__"
   ]
  },
  {
   "cell_type": "markdown",
   "metadata": {},
   "source": [
    "<font color=green> __Ordinary least squares, OLS:__"
   ]
  },
  {
   "cell_type": "markdown",
   "metadata": {},
   "source": [
    "<font color=green>__Coefficient of determination, $R^2$:__"
   ]
  },
  {
   "cell_type": "markdown",
   "metadata": {},
   "source": [
    "<font color=green>__Model:__"
   ]
  },
  {
   "cell_type": "markdown",
   "metadata": {},
   "source": [
    "<font color=green> __Multiple linear regression:__"
   ]
  },
  {
   "cell_type": "markdown",
   "metadata": {},
   "source": [
    "<font color=green>__Polynomial regression:__"
   ]
  },
  {
   "cell_type": "markdown",
   "metadata": {},
   "source": [
    "### Fitting a curved model"
   ]
  },
  {
   "cell_type": "code",
   "execution_count": null,
   "metadata": {},
   "outputs": [],
   "source": [
    "planets = pd.DataFrame(columns = ['name', 'axis', 'period'])\n",
    "# Planets and dwarf planets \n",
    "planets['name'] = ['Mercury', 'Venus', 'Earth', 'Mars', 'Jupiter', 'Saturn', 'Uranus', 'Neptune', 'Pluto', 'Ceres', 'Eris']\n",
    "planets['axis'] = [57.9, 108.2, 149.6, 227.9, 778.6, 1433.5, 2873.8, 4500.0, 5906.4, 414.3, 10133.8]\n",
    "planets['period'] = [88, 224.7, 365.26, 687.0, 4332.6, 10759.22, 30688.5, 60182.0, 90560.0, 1683.1, 203645.0]\n",
    "planets"
   ]
  },
  {
   "cell_type": "code",
   "execution_count": null,
   "metadata": {},
   "outputs": [],
   "source": [
    "plt.plot(planets['axis'], planets['period'], 'o')"
   ]
  },
  {
   "cell_type": "code",
   "execution_count": null,
   "metadata": {},
   "outputs": [],
   "source": [
    "planets['logax'] = np.log(planets['axis'])\n",
    "planets['logpd'] = np.log(planets['period'])\n",
    "plt.plot(planets['logax'], planets['logpd'], 'o')\n"
   ]
  },
  {
   "cell_type": "code",
   "execution_count": null,
   "metadata": {},
   "outputs": [],
   "source": [
    "logax_array = sm.add_constant(planets['logax'].values)\n",
    "model = sm.OLS(planets['logpd'], logax_array)\n",
    "results = model.fit()\n",
    "results.summary()"
   ]
  },
  {
   "cell_type": "markdown",
   "metadata": {},
   "source": [
    "### More curve fitting"
   ]
  },
  {
   "cell_type": "code",
   "execution_count": null,
   "metadata": {},
   "outputs": [],
   "source": [
    "curvedat = pd.read_csv('curvedat.csv')"
   ]
  },
  {
   "cell_type": "code",
   "execution_count": null,
   "metadata": {},
   "outputs": [],
   "source": [
    "plt.plot(curvedat['x'], curvedat['y'], 'o')\n",
    "plt.xticks(np.array([-np.pi/2, 0, np.pi/2, np.pi, 1.5*np.pi]),\n",
    "           labels = ['$-\\pi/2$', '0', '$\\pi/2$', '$\\pi$', '$3\\pi/2$'])"
   ]
  },
  {
   "cell_type": "code",
   "execution_count": null,
   "metadata": {},
   "outputs": [],
   "source": []
  }
 ],
 "metadata": {
  "kernelspec": {
   "display_name": "Python 3",
   "language": "python",
   "name": "python3"
  },
  "language_info": {
   "codemirror_mode": {
    "name": "ipython",
    "version": 3
   },
   "file_extension": ".py",
   "mimetype": "text/x-python",
   "name": "python",
   "nbconvert_exporter": "python",
   "pygments_lexer": "ipython3",
   "version": "3.8.1"
  }
 },
 "nbformat": 4,
 "nbformat_minor": 2
}
