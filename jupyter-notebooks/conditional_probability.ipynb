{
 "cells": [
  {
   "cell_type": "markdown",
   "metadata": {},
   "source": [
    "# Introduction to Conditional  Probability"
   ]
  },
  {
   "cell_type": "markdown",
   "metadata": {},
   "source": [
    "Let's recreate our data matrix from last class (recall the filename is 'TIA_1987_2016_with_dates.csv' and we grabbed January 1987, the first month in the file):"
   ]
  },
  {
   "cell_type": "code",
   "execution_count": 6,
   "metadata": {},
   "outputs": [
    {
     "data": {
      "text/html": [
       "<div>\n",
       "<style scoped>\n",
       "    .dataframe tbody tr th:only-of-type {\n",
       "        vertical-align: middle;\n",
       "    }\n",
       "\n",
       "    .dataframe tbody tr th {\n",
       "        vertical-align: top;\n",
       "    }\n",
       "\n",
       "    .dataframe thead th {\n",
       "        text-align: right;\n",
       "    }\n",
       "</style>\n",
       "<table border=\"1\" class=\"dataframe\">\n",
       "  <thead>\n",
       "    <tr style=\"text-align: right;\">\n",
       "      <th></th>\n",
       "      <th>Dewpt</th>\n",
       "      <th>AWS</th>\n",
       "      <th>Pcpn</th>\n",
       "      <th>MaxT</th>\n",
       "      <th>MinT</th>\n",
       "    </tr>\n",
       "    <tr>\n",
       "      <th>Date</th>\n",
       "      <th></th>\n",
       "      <th></th>\n",
       "      <th></th>\n",
       "      <th></th>\n",
       "      <th></th>\n",
       "    </tr>\n",
       "  </thead>\n",
       "  <tbody>\n",
       "    <tr>\n",
       "      <th>1987-01-05</th>\n",
       "      <td>33.4</td>\n",
       "      <td>12.97</td>\n",
       "      <td>0.09</td>\n",
       "      <td>63.0</td>\n",
       "      <td>44.0</td>\n",
       "    </tr>\n",
       "    <tr>\n",
       "      <th>1987-01-06</th>\n",
       "      <td>37.7</td>\n",
       "      <td>4.25</td>\n",
       "      <td>0.00</td>\n",
       "      <td>62.0</td>\n",
       "      <td>39.0</td>\n",
       "    </tr>\n",
       "    <tr>\n",
       "      <th>1987-01-07</th>\n",
       "      <td>34.9</td>\n",
       "      <td>6.71</td>\n",
       "      <td>0.00</td>\n",
       "      <td>63.0</td>\n",
       "      <td>36.0</td>\n",
       "    </tr>\n",
       "    <tr>\n",
       "      <th>1987-01-08</th>\n",
       "      <td>34.9</td>\n",
       "      <td>6.71</td>\n",
       "      <td>0.00</td>\n",
       "      <td>56.0</td>\n",
       "      <td>37.0</td>\n",
       "    </tr>\n",
       "    <tr>\n",
       "      <th>1987-01-09</th>\n",
       "      <td>31.0</td>\n",
       "      <td>5.59</td>\n",
       "      <td>0.00</td>\n",
       "      <td>54.0</td>\n",
       "      <td>28.0</td>\n",
       "    </tr>\n",
       "    <tr>\n",
       "      <th>1987-01-16</th>\n",
       "      <td>33.5</td>\n",
       "      <td>5.14</td>\n",
       "      <td>0.37</td>\n",
       "      <td>44.0</td>\n",
       "      <td>29.0</td>\n",
       "    </tr>\n",
       "    <tr>\n",
       "      <th>1987-01-31</th>\n",
       "      <td>36.0</td>\n",
       "      <td>7.16</td>\n",
       "      <td>0.03</td>\n",
       "      <td>54.0</td>\n",
       "      <td>42.0</td>\n",
       "    </tr>\n",
       "  </tbody>\n",
       "</table>\n",
       "</div>"
      ],
      "text/plain": [
       "            Dewpt    AWS  Pcpn  MaxT  MinT\n",
       "Date                                      \n",
       "1987-01-05   33.4  12.97  0.09  63.0  44.0\n",
       "1987-01-06   37.7   4.25  0.00  62.0  39.0\n",
       "1987-01-07   34.9   6.71  0.00  63.0  36.0\n",
       "1987-01-08   34.9   6.71  0.00  56.0  37.0\n",
       "1987-01-09   31.0   5.59  0.00  54.0  28.0\n",
       "1987-01-16   33.5   5.14  0.37  44.0  29.0\n",
       "1987-01-31   36.0   7.16  0.03  54.0  42.0"
      ]
     },
     "execution_count": 6,
     "metadata": {},
     "output_type": "execute_result"
    }
   ],
   "source": [
    "import pandas as pd\n",
    "df = pd.read_csv('TIA_1987_2016_with_dates.csv', index_col = 0, parse_dates = True)\n",
    "jan87 = df.head(31).copy()\n",
    "jan87[jan87.Dewpt >= 30]"
   ]
  },
  {
   "cell_type": "markdown",
   "metadata": {},
   "source": [
    "What is the probability that it rained or snowed at TIA in January of 1987 given that the dewpoint was at least 30?"
   ]
  },
  {
   "cell_type": "markdown",
   "metadata": {},
   "source": [
    "How did you figure that out?  What do we call the quantities that you used?"
   ]
  },
  {
   "cell_type": "markdown",
   "metadata": {},
   "source": [
    "<font color=green>__Conditional Probability:__</font> Given events _A_ and *B</t>*, we write P(*A</t>* | *B</t>*) as the symbol for 'the conditional probability of *A</t>* given *B</t>*'.  In other words, the conditional probability of *A</t>* assuming that *B</t>* has actually occurred.  Thinking about what we just did, define *A</t>* and *B</t>* for our example.  Write a formula for P(*A</t>* | *B</t>*) in terms of frequencies of *A</t>* and *B</t>* using our example as a template."
   ]
  },
  {
   "cell_type": "markdown",
   "metadata": {},
   "source": [
    "What happens if you divide both numerator and denominator of the right-hand side by _N_?  (What does *N* stand for? What is it in this example?)  Rewrite the formula in terms of these new derived quantities."
   ]
  },
  {
   "cell_type": "markdown",
   "metadata": {},
   "source": [
    "Suppose we are interested in the dewpoint-precip relationship for all Januaries.  What is the data for January, 1987?  What have we calculated about all Januaries?  How can we improve it?  What confounding factors are there?"
   ]
  },
  {
   "cell_type": "markdown",
   "metadata": {},
   "source": [
    "Use Python to calculate the conditional probability using both formulae."
   ]
  },
  {
   "cell_type": "code",
   "execution_count": 2,
   "metadata": {},
   "outputs": [],
   "source": [
    "B = jan87[jan87.Dewpt >= 30]\n",
    "B"
   ]
  },
  {
   "cell_type": "code",
   "execution_count": 6,
   "metadata": {
    "scrolled": true
   },
   "outputs": [
    {
     "data": {
      "text/html": [
       "<div>\n",
       "<style scoped>\n",
       "    .dataframe tbody tr th:only-of-type {\n",
       "        vertical-align: middle;\n",
       "    }\n",
       "\n",
       "    .dataframe tbody tr th {\n",
       "        vertical-align: top;\n",
       "    }\n",
       "\n",
       "    .dataframe thead th {\n",
       "        text-align: right;\n",
       "    }\n",
       "</style>\n",
       "<table border=\"1\" class=\"dataframe\">\n",
       "  <thead>\n",
       "    <tr style=\"text-align: right;\">\n",
       "      <th></th>\n",
       "      <th>Dewpt</th>\n",
       "      <th>AWS</th>\n",
       "      <th>Pcpn</th>\n",
       "      <th>MaxT</th>\n",
       "      <th>MinT</th>\n",
       "    </tr>\n",
       "    <tr>\n",
       "      <th>Date</th>\n",
       "      <th></th>\n",
       "      <th></th>\n",
       "      <th></th>\n",
       "      <th></th>\n",
       "      <th></th>\n",
       "    </tr>\n",
       "  </thead>\n",
       "  <tbody>\n",
       "    <tr>\n",
       "      <th>1987-01-05</th>\n",
       "      <td>33.4</td>\n",
       "      <td>12.97</td>\n",
       "      <td>0.09</td>\n",
       "      <td>63.0</td>\n",
       "      <td>44.0</td>\n",
       "    </tr>\n",
       "    <tr>\n",
       "      <th>1987-01-16</th>\n",
       "      <td>33.5</td>\n",
       "      <td>5.14</td>\n",
       "      <td>0.37</td>\n",
       "      <td>44.0</td>\n",
       "      <td>29.0</td>\n",
       "    </tr>\n",
       "    <tr>\n",
       "      <th>1987-01-31</th>\n",
       "      <td>36.0</td>\n",
       "      <td>7.16</td>\n",
       "      <td>0.03</td>\n",
       "      <td>54.0</td>\n",
       "      <td>42.0</td>\n",
       "    </tr>\n",
       "  </tbody>\n",
       "</table>\n",
       "</div>"
      ],
      "text/plain": [
       "            Dewpt    AWS  Pcpn  MaxT  MinT\n",
       "Date                                      \n",
       "1987-01-05   33.4  12.97  0.09  63.0  44.0\n",
       "1987-01-16   33.5   5.14  0.37  44.0  29.0\n",
       "1987-01-31   36.0   7.16  0.03  54.0  42.0"
      ]
     },
     "execution_count": 6,
     "metadata": {},
     "output_type": "execute_result"
    }
   ],
   "source": [
    "A_and_B = B[B.Pcpn > 0]\n",
    "A_and_B"
   ]
  },
  {
   "cell_type": "code",
   "execution_count": 7,
   "metadata": {},
   "outputs": [
    {
     "data": {
      "text/html": [
       "<div>\n",
       "<style scoped>\n",
       "    .dataframe tbody tr th:only-of-type {\n",
       "        vertical-align: middle;\n",
       "    }\n",
       "\n",
       "    .dataframe tbody tr th {\n",
       "        vertical-align: top;\n",
       "    }\n",
       "\n",
       "    .dataframe thead th {\n",
       "        text-align: right;\n",
       "    }\n",
       "</style>\n",
       "<table border=\"1\" class=\"dataframe\">\n",
       "  <thead>\n",
       "    <tr style=\"text-align: right;\">\n",
       "      <th></th>\n",
       "      <th>Dewpt</th>\n",
       "      <th>AWS</th>\n",
       "      <th>Pcpn</th>\n",
       "      <th>MaxT</th>\n",
       "      <th>MinT</th>\n",
       "    </tr>\n",
       "    <tr>\n",
       "      <th>Date</th>\n",
       "      <th></th>\n",
       "      <th></th>\n",
       "      <th></th>\n",
       "      <th></th>\n",
       "      <th></th>\n",
       "    </tr>\n",
       "  </thead>\n",
       "  <tbody>\n",
       "    <tr>\n",
       "      <th>1987-01-05</th>\n",
       "      <td>33.4</td>\n",
       "      <td>12.97</td>\n",
       "      <td>0.09</td>\n",
       "      <td>63.0</td>\n",
       "      <td>44.0</td>\n",
       "    </tr>\n",
       "    <tr>\n",
       "      <th>1987-01-16</th>\n",
       "      <td>33.5</td>\n",
       "      <td>5.14</td>\n",
       "      <td>0.37</td>\n",
       "      <td>44.0</td>\n",
       "      <td>29.0</td>\n",
       "    </tr>\n",
       "    <tr>\n",
       "      <th>1987-01-31</th>\n",
       "      <td>36.0</td>\n",
       "      <td>7.16</td>\n",
       "      <td>0.03</td>\n",
       "      <td>54.0</td>\n",
       "      <td>42.0</td>\n",
       "    </tr>\n",
       "  </tbody>\n",
       "</table>\n",
       "</div>"
      ],
      "text/plain": [
       "            Dewpt    AWS  Pcpn  MaxT  MinT\n",
       "Date                                      \n",
       "1987-01-05   33.4  12.97  0.09  63.0  44.0\n",
       "1987-01-16   33.5   5.14  0.37  44.0  29.0\n",
       "1987-01-31   36.0   7.16  0.03  54.0  42.0"
      ]
     },
     "execution_count": 7,
     "metadata": {},
     "output_type": "execute_result"
    }
   ],
   "source": [
    "A_and_B_also = jan87[(jan87.Dewpt >= 30) & (jan87.Pcpn > 0)]\n",
    "A_and_B_also"
   ]
  },
  {
   "cell_type": "code",
   "execution_count": 8,
   "metadata": {},
   "outputs": [
    {
     "data": {
      "text/plain": [
       "0.42857142857142855"
      ]
     },
     "execution_count": 8,
     "metadata": {},
     "output_type": "execute_result"
    }
   ],
   "source": [
    "len(A_and_B_also) / len(B)"
   ]
  },
  {
   "cell_type": "markdown",
   "metadata": {},
   "source": [
    "## <font color=blue> Exercises"
   ]
  },
  {
   "cell_type": "markdown",
   "metadata": {},
   "source": [
    "1. Write code that makes a new frame containing the data for December, 2004 from our example frame. What is the estimated probability that the maximum temperature for the day is over 60 if the minimum was over 30 on any given December day in Tucson? What is the conditional probability that the minimum temperature was over 30 given that max was over 60? Is it always true that $P(A | B) == P(B | A)$?"
   ]
  },
  {
   "cell_type": "code",
   "execution_count": null,
   "metadata": {},
   "outputs": [],
   "source": []
  },
  {
   "cell_type": "markdown",
   "metadata": {},
   "source": [
    "2. Write a function called `get_P` that takes a frame, an attribute, a cutoff, another attribute, and another cutoff. It should return the conditional probability that the first attribute is greater than the first cutoff given that the second attribute is greater than the second cutoff."
   ]
  },
  {
   "cell_type": "code",
   "execution_count": null,
   "metadata": {},
   "outputs": [],
   "source": []
  }
 ],
 "metadata": {
  "kernelspec": {
   "display_name": "Python 3",
   "language": "python",
   "name": "python3"
  },
  "language_info": {
   "codemirror_mode": {
    "name": "ipython",
    "version": 3
   },
   "file_extension": ".py",
   "mimetype": "text/x-python",
   "name": "python",
   "nbconvert_exporter": "python",
   "pygments_lexer": "ipython3",
   "version": "3.8.1"
  }
 },
 "nbformat": 4,
 "nbformat_minor": 2
}
