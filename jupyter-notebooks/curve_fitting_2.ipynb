{
 "cells": [
  {
   "cell_type": "markdown",
   "metadata": {},
   "source": [
    "# Curve Fitting 2"
   ]
  },
  {
   "cell_type": "code",
   "execution_count": null,
   "metadata": {},
   "outputs": [],
   "source": [
    "import pandas as pd, numpy as np\n",
    "import matplotlib.pyplot as plt\n",
    "import statsmodels.api as sm"
   ]
  },
  {
   "cell_type": "markdown",
   "metadata": {},
   "source": [
    "### Review: OLS for linear and transformed-linear models"
   ]
  },
  {
   "cell_type": "markdown",
   "metadata": {},
   "source": [
    "#### Example 1: "
   ]
  },
  {
   "cell_type": "code",
   "execution_count": null,
   "metadata": {},
   "outputs": [],
   "source": [
    "djia = pd.read_csv('climate-change-2016.csv')\n",
    "djia.head(6)"
   ]
  },
  {
   "cell_type": "code",
   "execution_count": null,
   "metadata": {},
   "outputs": [],
   "source": [
    "djia.plot(x='CO2ppm', y='global_temp_anomaly', kind='scatter')\n",
    "ax = plt.gca()\n",
    "ax.set_ylabel(r\"Mean Global Temp Anomaly ($^\\circ C$))\", fontsize=16)\n",
    "ax.set_xlabel(r\"Atmospheric CO$_2$, (ppm)\", fontsize=16)\n",
    "plt.yticks(fontsize=18)\n",
    "plt.xticks(fontsize=18)"
   ]
  },
  {
   "cell_type": "code",
   "execution_count": null,
   "metadata": {},
   "outputs": [],
   "source": [
    "carbon_array = sm.add_constant(djia['CO2ppm'].values) # necessary to get the intercept\n",
    "model = sm.OLS(djia['global_temp_anomaly'], carbon_array)\n",
    "results = model.fit()\n",
    "results.params"
   ]
  },
  {
   "cell_type": "code",
   "execution_count": null,
   "metadata": {},
   "outputs": [],
   "source": [
    "results.summary()"
   ]
  },
  {
   "cell_type": "markdown",
   "metadata": {},
   "source": [
    "#### Example 2:"
   ]
  },
  {
   "cell_type": "code",
   "execution_count": null,
   "metadata": {},
   "outputs": [],
   "source": [
    "djia.plot(x='DJIA', y='global_temp_anomaly', kind = 'scatter')\n",
    "ax = plt.gca()\n",
    "ax.set_ylabel(r\"Mean Global Temp Anomaly ($^\\circ C$))\", fontsize=16)\n",
    "ax.set_xlabel(r\"Dow Jones Industrial Average (\\$)\", fontsize=16)\n",
    "plt.xscale(\"log\")\n",
    "plt.yticks(fontsize=18)\n",
    "plt.xticks(fontsize=18)"
   ]
  },
  {
   "cell_type": "code",
   "execution_count": null,
   "metadata": {},
   "outputs": [],
   "source": [
    "X = sm.add_constant(np.log10(djia['DJIA'])) # necessary to get the intercept\n",
    "model = sm.OLS(djia['global_temp_anomaly'], X)\n",
    "results = model.fit()"
   ]
  },
  {
   "cell_type": "code",
   "execution_count": null,
   "metadata": {},
   "outputs": [],
   "source": [
    "results.summary()\n"
   ]
  },
  {
   "cell_type": "code",
   "execution_count": null,
   "metadata": {},
   "outputs": [],
   "source": [
    "xs = np.arange(600, 18000)\n",
    "ys = results.params['DJIA'] * np.log10(xs) + results.params['const'] \n",
    "djia.plot(x='DJIA', y='global_temp_anomaly', kind = 'scatter')\n",
    "plt.plot(xs, ys, linewidth=4, color = 'orange')\n",
    "ax = plt.gca()\n",
    "ax.set_ylabel(r\"Mean Global Temp Anomaly ($^\\circ C$))\", fontsize=16)\n",
    "ax.set_xlabel(r\"Dow Jones Industrial Average (\\$)\", fontsize=16)\n",
    "plt.xscale(\"log\")\n",
    "plt.yticks(fontsize=18)\n",
    "plt.xticks(fontsize=12)"
   ]
  },
  {
   "cell_type": "code",
   "execution_count": null,
   "metadata": {},
   "outputs": [],
   "source": []
  },
  {
   "cell_type": "markdown",
   "metadata": {},
   "source": [
    "<font color = green> __Correlation vs. causation:__"
   ]
  },
  {
   "cell_type": "markdown",
   "metadata": {},
   "source": [
    "### p-values and statistical significance"
   ]
  },
  {
   "cell_type": "markdown",
   "metadata": {},
   "source": [
    "<font color = green> __Statistical significance:__"
   ]
  },
  {
   "cell_type": "markdown",
   "metadata": {},
   "source": [
    "<font color = green> __Null hypothesis:__"
   ]
  },
  {
   "cell_type": "markdown",
   "metadata": {},
   "source": [
    "<font color = green> __p-value:__"
   ]
  },
  {
   "cell_type": "markdown",
   "metadata": {},
   "source": [
    "<font color = green> __Statistic:__"
   ]
  },
  {
   "cell_type": "markdown",
   "metadata": {},
   "source": [
    "<font color = green> __Test statistic:__"
   ]
  },
  {
   "cell_type": "markdown",
   "metadata": {},
   "source": [
    "<font color = green> __Analysis of variance:__\n",
    "\n",
    "<font color = black>\n",
    "ANOVA $F$-statistic:\n",
    "\n",
    "$$ \\frac{\\mathrm{MSE_{pred}}}{\\mathrm{MSE_{res}}} $$"
   ]
  },
  {
   "cell_type": "markdown",
   "metadata": {},
   "source": [
    "## <font color = blue> Worksheet"
   ]
  },
  {
   "cell_type": "markdown",
   "metadata": {},
   "source": [
    "### Nonlinear least squares"
   ]
  },
  {
   "cell_type": "code",
   "execution_count": null,
   "metadata": {},
   "outputs": [],
   "source": [
    "df = pd.read_csv('data_79_17.csv', index_col=0)\n",
    "df.head()\n",
    "short_stack = pd.concat((df.loc[yr, :] for yr in range(1979, 1981)))\n",
    "shortdf = pd.DataFrame(short_stack.values, columns=['Extent'], index=np.arange(len(short_stack.values)))\n",
    "long_stack = pd.concat((df.loc[yr, :] for yr in range(1979, 1999)))\n",
    "longdf = pd.DataFrame(long_stack.values, columns=['Extent'], index=np.arange(len(long_stack.values)))\n",
    "shortdf.plot(marker = '.')"
   ]
  },
  {
   "cell_type": "code",
   "execution_count": null,
   "metadata": {},
   "outputs": [],
   "source": [
    "shortdf.head(6)"
   ]
  },
  {
   "cell_type": "code",
   "execution_count": null,
   "metadata": {},
   "outputs": [],
   "source": [
    "# Try a high degree polynomial:\n",
    "X = np.column_stack([shortdf.index.values ** i for i in range( )]) # Fill in the range here to pick the degree\n",
    "#X = sm.add_constant(X)\n",
    "model = sm.OLS(longdf['Extent'], X)\n",
    "results = model.fit()\n",
    "results.summary()"
   ]
  },
  {
   "cell_type": "code",
   "execution_count": null,
   "metadata": {},
   "outputs": [],
   "source": [
    "xs = shortdf.index.values\n",
    "ys = results.params['const'] \\\n",
    "    + results.params['x1'] * xs \\\n",
    "    + results.params['x2'] * xs ** 2 \\\n",
    "    + results.params['x3'] * xs ** 3 \\\n",
    "    + results.params['x4'] * xs ** 4 \\\n",
    "    + results.params['x5'] * xs ** 5\n",
    "shortdf.plot(marker = '.')\n",
    "plt.plot(xs, ys, color='orange')"
   ]
  },
  {
   "cell_type": "code",
   "execution_count": null,
   "metadata": {},
   "outputs": [],
   "source": [
    "results.mse_resid**0.5"
   ]
  },
  {
   "cell_type": "code",
   "execution_count": null,
   "metadata": {},
   "outputs": [],
   "source": [
    "from scipy.optimize import curve_fit"
   ]
  },
  {
   "cell_type": "code",
   "execution_count": null,
   "metadata": {},
   "outputs": [],
   "source": [
    "# this is the function that we will be fitting to our points. \n",
    "# a, freq, phi, and c are the parameters that we will vary until we get the best fit.\n",
    "def func(x, a, freq, phi, c):\n",
    "    return a*np.sin(freq * (x - phi)) + c"
   ]
  },
  {
   "cell_type": "code",
   "execution_count": null,
   "metadata": {},
   "outputs": [],
   "source": [
    "popt, pcov = curve_fit(func, shortdf.index, shortdf['Extent']) # popt = parameters optimized\n",
    "rmse = (sum((func(x, *popt) - shortdf['Extent'][x])**2 for x in shortdf.index) / (len(shortdf.index - 4)))**0.5\n",
    "rmse"
   ]
  },
  {
   "cell_type": "code",
   "execution_count": null,
   "metadata": {},
   "outputs": [],
   "source": [
    "xs = shortdf.index.values\n",
    "ys = func(shortdf.index.values, *popt)\n",
    "shortdf.plot(marker = '.')\n",
    "plt.plot(xs, ys, color='orange')"
   ]
  },
  {
   "cell_type": "code",
   "execution_count": null,
   "metadata": {},
   "outputs": [],
   "source": [
    "popt"
   ]
  },
  {
   "cell_type": "code",
   "execution_count": null,
   "metadata": {},
   "outputs": [],
   "source": [
    "popt, pcov = curve_fit(func, shortdf.index, shortdf['Extent'], p0 = [5, 1/60, 0, 12]) # p0: starting guess\n",
    "rmse = (sum((func(x, *popt) - shortdf['Extent'][x])**2 for x in shortdf.index) / (len(shortdf.index) - 4))**0.5\n",
    "rmse"
   ]
  },
  {
   "cell_type": "code",
   "execution_count": null,
   "metadata": {},
   "outputs": [],
   "source": [
    "xs = shortdf.index.values\n",
    "ys = func(shortdf.index.values, *popt)\n",
    "shortdf.plot(marker = '.')\n",
    "plt.plot(xs, ys, color='orange')"
   ]
  },
  {
   "cell_type": "code",
   "execution_count": null,
   "metadata": {},
   "outputs": [],
   "source": []
  },
  {
   "cell_type": "code",
   "execution_count": null,
   "metadata": {},
   "outputs": [],
   "source": [
    "xs = longdf.index.values\n",
    "ys = func(longdf.index.values, *popt)\n",
    "longdf.plot(marker = '.')\n",
    "plt.plot(xs, ys, color='orange')"
   ]
  },
  {
   "cell_type": "markdown",
   "metadata": {},
   "source": [
    "<font color = green> __How could we make this better?__"
   ]
  }
 ],
 "metadata": {
  "kernelspec": {
   "display_name": "Python 3",
   "language": "python",
   "name": "python3"
  },
  "language_info": {
   "codemirror_mode": {
    "name": "ipython",
    "version": 3
   },
   "file_extension": ".py",
   "mimetype": "text/x-python",
   "name": "python",
   "nbconvert_exporter": "python",
   "pygments_lexer": "ipython3",
   "version": "3.8.1"
  }
 },
 "nbformat": 4,
 "nbformat_minor": 2
}
